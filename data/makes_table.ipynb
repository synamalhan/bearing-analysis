{
 "cells": [
  {
   "cell_type": "code",
   "execution_count": null,
   "id": "c6ed15c1",
   "metadata": {},
   "outputs": [
    {
     "ename": "AssertionError",
     "evalue": "Required columns not found.",
     "output_type": "error",
     "traceback": [
      "\u001b[0;31m---------------------------------------------------------------------------\u001b[0m",
      "\u001b[0;31mAssertionError\u001b[0m                            Traceback (most recent call last)",
      "Cell \u001b[0;32mIn[2], line 9\u001b[0m\n\u001b[1;32m      6\u001b[0m df \u001b[38;5;241m=\u001b[39m pd\u001b[38;5;241m.\u001b[39mread_excel(\u001b[38;5;124m\"\u001b[39m\u001b[38;5;124mCleaned_Bearing_Dataset.xlsx\u001b[39m\u001b[38;5;124m\"\u001b[39m)\n\u001b[1;32m      8\u001b[0m \u001b[38;5;66;03m# Check required columns\u001b[39;00m\n\u001b[0;32m----> 9\u001b[0m \u001b[38;5;28;01massert\u001b[39;00m \u001b[38;5;124m'\u001b[39m\u001b[38;5;124mbearing_type\u001b[39m\u001b[38;5;124m'\u001b[39m \u001b[38;5;129;01min\u001b[39;00m df\u001b[38;5;241m.\u001b[39mcolumns \u001b[38;5;129;01mand\u001b[39;00m \u001b[38;5;124m'\u001b[39m\u001b[38;5;124mmake\u001b[39m\u001b[38;5;124m'\u001b[39m \u001b[38;5;129;01min\u001b[39;00m df\u001b[38;5;241m.\u001b[39mcolumns, \u001b[38;5;124m\"\u001b[39m\u001b[38;5;124mRequired columns not found.\u001b[39m\u001b[38;5;124m\"\u001b[39m\n\u001b[1;32m     11\u001b[0m \u001b[38;5;66;03m# Drop rows with missing bearing_type or make\u001b[39;00m\n\u001b[1;32m     12\u001b[0m df_clean \u001b[38;5;241m=\u001b[39m df\u001b[38;5;241m.\u001b[39mdropna(subset\u001b[38;5;241m=\u001b[39m[\u001b[38;5;124m'\u001b[39m\u001b[38;5;124mbearing_type\u001b[39m\u001b[38;5;124m'\u001b[39m, \u001b[38;5;124m'\u001b[39m\u001b[38;5;124mmake\u001b[39m\u001b[38;5;124m'\u001b[39m])\n",
      "\u001b[0;31mAssertionError\u001b[0m: Required columns not found."
     ]
    }
   ],
   "source": [
    "# bearing_bearing_make_pivot.ipynb\n",
    "\n",
    "import pandas as pd\n",
    "\n",
    "# Load dataset\n",
    "df = pd.read_excel(\"Cleaned_Bearing_Dataset.xlsx\")\n",
    "\n",
    "# Check required columns\n",
    "assert 'bearing_type_assigned_1' in df.columns and 'bearing_make' in df.columns, \"Required columns not found.\"\n",
    "\n",
    "# Drop rows with missing bearing_type_assigned_1 or bearing_make\n",
    "df_clean = df.dropna(subset=['bearing_type_assigned_1', 'bearing_make'])\n",
    "\n",
    "# Group by bearing_type_assigned_1 and aggregate bearing_make lists\n",
    "grouped = df_clean.groupby('bearing_type_assigned_1').agg(\n",
    "    num_bearing_makes=('bearing_make', lambda x: x.nunique()),\n",
    "    bearing_makes=('bearing_make', lambda x: sorted(x.dropna().unique().tolist()))\n",
    ").reset_index()\n",
    "\n",
    "# Display pivot-style table\n",
    "pd.set_option('display.max_colwidth', None)\n",
    "display(grouped.sort_values(by='num_bearing_makes', ascending=False))\n"
   ]
  },
  {
   "cell_type": "code",
   "execution_count": null,
   "id": "a6350c77",
   "metadata": {},
   "outputs": [],
   "source": [
    "grouped.to_csv(\"outputs/bearing_makes_per_bearing_type_assigned_1.csv\", index=False)\n"
   ]
  }
 ],
 "metadata": {
  "kernelspec": {
   "display_name": "Python 3",
   "language": "python",
   "name": "python3"
  },
  "language_info": {
   "codemirror_mode": {
    "name": "ipython",
    "version": 3
   },
   "file_extension": ".py",
   "mimetype": "text/x-python",
   "name": "python",
   "nbconvert_exporter": "python",
   "pygments_lexer": "ipython3",
   "version": "3.11.9"
  }
 },
 "nbformat": 4,
 "nbformat_minor": 5
}
